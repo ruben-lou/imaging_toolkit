{
 "cells": [
  {
   "cell_type": "code",
   "execution_count": 1,
   "metadata": {},
   "outputs": [],
   "source": [
    "import nibabel as nib\n",
    "import nilearn.image as nlimage\n",
    "import numpy as np"
   ]
  },
  {
   "cell_type": "code",
   "execution_count": 2,
   "metadata": {},
   "outputs": [],
   "source": [
    "\n",
    "# load the two segmentation files and its reference volume\n",
    "vol = nib.load('directory/your_reference_volume.nii')\n",
    "seg1 = nib.load('directory/your_binary_segmenation_1.nii')\n",
    "seg2 = nib.load('directory/your_binary_segmenation_2.nii')"
   ]
  },
  {
   "cell_type": "code",
   "execution_count": 3,
   "metadata": {},
   "outputs": [],
   "source": [
    "# resample the segmentations to match the shape and affine of the reference volume\n",
    "seg1_resampled = nlimage.resample_img(seg1, target_affine=vol.affine, target_shape=vol.shape)\n",
    "seg2_resampled = nlimage.resample_img(seg2, target_affine=vol.affine, target_shape=vol.shape)\n",
    "\n",
    "# get the data arrays from the resampled segmentations\n",
    "seg1_data = seg1_resampled.get_fdata()\n",
    "seg2_data = seg2_resampled.get_fdata()\n",
    "\n",
    "# merge the two segmentations using logical OR\n",
    "merged_seg = np.logical_or(seg1_data, seg2_data)\n",
    "\n",
    "# create a new nibabel image object with the merged segmentation data\n",
    "merged_seg_img = nib.Nifti1Image(merged_seg, vol.affine, vol.header)"
   ]
  },
  {
   "cell_type": "code",
   "execution_count": 4,
   "metadata": {},
   "outputs": [],
   "source": [
    "# save the merged segmentation to a new .nii file\n",
    "nib.save(merged_seg_img, 'directory/merge_segmentation_name.nii')"
   ]
  }
 ],
 "metadata": {
  "kernelspec": {
   "display_name": "ATLAS",
   "language": "python",
   "name": "python3"
  },
  "language_info": {
   "codemirror_mode": {
    "name": "ipython",
    "version": 3
   },
   "file_extension": ".py",
   "mimetype": "text/x-python",
   "name": "python",
   "nbconvert_exporter": "python",
   "pygments_lexer": "ipython3",
   "version": "3.10.4"
  },
  "orig_nbformat": 4,
  "vscode": {
   "interpreter": {
    "hash": "081d88040955a7a5f8400f2ea1501242806fc0160a14a17015b3ec63eee3a690"
   }
  }
 },
 "nbformat": 4,
 "nbformat_minor": 2
}
