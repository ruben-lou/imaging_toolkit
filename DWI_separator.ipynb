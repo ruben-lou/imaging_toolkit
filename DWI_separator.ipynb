{
 "cells": [
  {
   "cell_type": "code",
   "execution_count": 1,
   "metadata": {},
   "outputs": [],
   "source": [
    "import nibabel as nib"
   ]
  },
  {
   "cell_type": "code",
   "execution_count": 5,
   "metadata": {},
   "outputs": [],
   "source": [
    "# load the NIfTI file\n",
    "img = nib.load('directory/DWI_scan.nii')"
   ]
  },
  {
   "cell_type": "code",
   "execution_count": 6,
   "metadata": {},
   "outputs": [],
   "source": [
    "# get the volume data as a 3D numpy array\n",
    "data = img.get_fdata() \n",
    "\n",
    "# loop over the volumes and save each as a separate file\n",
    "for i in range(data.shape[-1]):\n",
    "    vol = data[..., i]\n",
    "    vol_img = nib.Nifti1Image(vol, img.affine, img.header)\n",
    "    nib.save(vol_img, f'directory/vol_{i+1}.nii')"
   ]
  },
  {
   "cell_type": "code",
   "execution_count": null,
   "metadata": {},
   "outputs": [],
   "source": []
  }
 ],
 "metadata": {
  "kernelspec": {
   "display_name": "ATLAS",
   "language": "python",
   "name": "python3"
  },
  "language_info": {
   "codemirror_mode": {
    "name": "ipython",
    "version": 3
   },
   "file_extension": ".py",
   "mimetype": "text/x-python",
   "name": "python",
   "nbconvert_exporter": "python",
   "pygments_lexer": "ipython3",
   "version": "3.10.4"
  },
  "orig_nbformat": 4,
  "vscode": {
   "interpreter": {
    "hash": "081d88040955a7a5f8400f2ea1501242806fc0160a14a17015b3ec63eee3a690"
   }
  }
 },
 "nbformat": 4,
 "nbformat_minor": 2
}
